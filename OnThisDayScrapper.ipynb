{
  "nbformat": 4,
  "nbformat_minor": 2,
  "metadata": {
    "colab": {
      "name": "OnThisDayScrapper.ipynb",
      "provenance": [],
      "collapsed_sections": [],
      "authorship_tag": "ABX9TyMTXaGY9PVugRv75rDn1rW7",
      "include_colab_link": true
    },
    "kernelspec": {
      "name": "python3",
      "display_name": "Python 3"
    },
    "language_info": {
      "name": "python"
    }
  },
  "cells": [
    {
      "cell_type": "markdown",
      "source": [
        "<a href=\"https://colab.research.google.com/github/RamaSLK/OnThisDayScrapper/blob/main/OnThisDayScrapper.ipynb\" target=\"_parent\"><img src=\"https://colab.research.google.com/assets/colab-badge.svg\" alt=\"Open In Colab\"/></a>"
      ],
      "metadata": {
        "id": "view-in-github",
        "colab_type": "text"
      }
    },
    {
      "cell_type": "code",
      "execution_count": null,
      "source": [
        "import urllib.request as urllib2\n",
        "from bs4 import BeautifulSoup\n",
        "import requests\n",
        "import re\n",
        "\n",
        "url = 'https://en.wikipedia.org/wiki/Main_Page'\n",
        "\n",
        "def validateUrl(inputUrl):\n",
        "  try:\n",
        "    res = urllib2.urlopen(inputUrl)\n",
        "    actualUrl = res.geturl()\n",
        "    print('VALID URL', inputUrl)\n",
        "    return True\n",
        "  except:\n",
        "    print('INVALID URL', inputUrl)\n",
        "    return False\n",
        "\n",
        "def extractInfo(inputUrl):\n",
        "  try:\n",
        "    if (validateUrl(inputUrl)):\n",
        "      print('Start extracting content from url: ' + inputUrl + '\\n')\n",
        "      content = requests.get(inputUrl).content\n",
        "      soup = BeautifulSoup(content, 'lxml')\n",
        "      \n",
        "      day = soup.find('div', id='mp-otd').find('p').find('b').find('a').get_text()\n",
        "      print('On '+ day + 'th, these things happened.')\n",
        "      print('---------------------------------------')\n",
        "      container = soup.find('div', id='mp-otd').find('ul')\n",
        "      whitelist = [ 'a','li' ]\n",
        "      tokens = [t for t in container.findAll(text=True) if t.parent.name in whitelist]\n",
        "\n",
        "      tokensToStr = ''.join(map(str, tokens))\n",
        "      # split retruns what's before and after the separator. Hence, in this \n",
        "      # scenario it'll add an empty string as the first element of the list.\n",
        "      # To get rid off the empty string use 'None' in filter method, \n",
        "      # it will return truthy values. \n",
        "      strToList = list(filter(None, re.split(r\"([0-9]+\\s\\–\\s)\", tokensToStr)))\n",
        "      \n",
        "      for x in range(0, len(strToList),2):\n",
        "        print(strToList[x]+strToList[x+1])\n",
        "      \n",
        "      print('\\nContent extraction finished.')\n",
        "    else:\n",
        "      print('Please enter a valid url.')\n",
        "  except:\n",
        "    print('Content extraction failed!')\n",
        "\n",
        "\n",
        "extractInfo(url)"
      ],
      "outputs": [
        {
          "output_type": "stream",
          "name": "stdout",
          "text": [
            "VALID URL https://en.wikipedia.org/wiki/Main_Page\n",
            "Start extracting content from url: https://en.wikipedia.org/wiki/Main_Page\n",
            "\n",
            "On September 19th, these things happened.\n",
            "---------------------------------------\n",
            "1777 – American Revolutionary War: British troops engaged American forces at the first Battle of Saratoga in New York\n",
            "1846 – French shepherd children Mélanie Calvat and Maximin Giraud reported a Marian apparition, now known as Our Lady of La Salette , near La Salette-Fallavaux\n",
            "1893 – New Zealand became the first country to introduce universal suffrage following the women's suffrage movement led by Kate Sheppard\n",
            "1991 – Ötzi, a well-preserved natural mummy of a man dating from about 3300 BC, was discovered by two German tourists in the Alps\n",
            "2011 – Mariano Rivera surpassed Trevor Hoffman to become Major League Baseball's all-time leader in the number of saves\n",
            "\n",
            "Content extraction finished.\n"
          ]
        }
      ],
      "metadata": {
        "colab": {
          "base_uri": "https://localhost:8080/"
        },
        "id": "JH28o7Fre9lW",
        "outputId": "83b15023-f5aa-4e78-be5b-aef38b13b2f7"
      }
    }
  ]
}