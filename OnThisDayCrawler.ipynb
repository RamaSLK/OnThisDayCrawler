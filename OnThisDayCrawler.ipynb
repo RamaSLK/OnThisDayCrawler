{
  "nbformat": 4,
  "nbformat_minor": 0,
  "metadata": {
    "colab": {
      "name": "OnThisDayCrawler.ipynb",
      "provenance": [],
      "collapsed_sections": [],
      "authorship_tag": "ABX9TyMTXaGY9PVugRv75rDn1rW7",
      "include_colab_link": true
    },
    "kernelspec": {
      "name": "python3",
      "display_name": "Python 3"
    },
    "language_info": {
      "name": "python"
    }
  },
  "cells": [
    {
      "cell_type": "markdown",
      "metadata": {
        "id": "view-in-github",
        "colab_type": "text"
      },
      "source": [
        "<a href=\"https://colab.research.google.com/github/RamaSLK/OnThisDayCrawler/blob/main/OnThisDayCrawler.ipynb\" target=\"_parent\"><img src=\"https://colab.research.google.com/assets/colab-badge.svg\" alt=\"Open In Colab\"/></a>"
      ]
    },
    {
      "cell_type": "code",
      "metadata": {
        "colab": {
          "base_uri": "https://localhost:8080/"
        },
        "id": "JH28o7Fre9lW",
        "outputId": "3ab65353-bbce-4b59-f99d-6e87599aa799"
      },
      "source": [
        "import urllib.request as urllib2\n",
        "from bs4 import BeautifulSoup\n",
        "import requests\n",
        "\n",
        "url = 'https://en.wikipedia.org/wiki/Main_Page'\n",
        "\n",
        "def validateUrl(inputUrl):\n",
        "  try:\n",
        "    res = urllib2.urlopen(inputUrl)\n",
        "    actualUrl = res.geturl()\n",
        "    print('VALID URL', inputUrl)\n",
        "    return True\n",
        "  except:\n",
        "    print('INVALID URL', inputUrl)\n",
        "    return False\n",
        "\n",
        "def extractInfo(inputUrl):\n",
        "  try:\n",
        "    if (validateUrl(inputUrl)):\n",
        "      print('Start extracting content from url: ' + inputUrl + '\\n')\n",
        "      content = requests.get(inputUrl).content\n",
        "      soup = BeautifulSoup(content, 'lxml')\n",
        "      \n",
        "      day = soup.find('div', id='mp-otd').find('p').find('b').find('a').get_text()\n",
        "      print('On '+ day + 'th, these things happened.')\n",
        "      print('---------------------------------------')\n",
        "      container = soup.find('div', id='mp-otd').find('ul')\n",
        "      whitelist = [ 'a','li' ]\n",
        "      tokens = [t for t in container.findAll(text=True) if t.parent.name in whitelist]\n",
        "\n",
        "      tokensToStr = ''.join(map(str, tokens))\n",
        "      strToList = tokensToStr.split('.')\n",
        "      for st in strToList:\n",
        "        print(st)\n",
        "      \n",
        "      print('Content extraction finished.')\n",
        "    else:\n",
        "      print('Please enter a valid url.')\n",
        "  except:\n",
        "    print('Content extraction failed!')\n",
        "\n",
        "\n",
        "extractInfo(url)"
      ],
      "execution_count": 93,
      "outputs": [
        {
          "output_type": "stream",
          "name": "stdout",
          "text": [
            "VALID URL https://en.wikipedia.org/wiki/Main_Page\n",
            "Start extracting content from url: https://en.wikipedia.org/wiki/Main_Page\n",
            "\n",
            "On September 19th, these things happened.\n",
            "---------------------------------------\n",
            "1777 – American Revolutionary War: British troops engaged American forces at the first Battle of Saratoga in New York\n",
            "1846 – French shepherd children Mélanie Calvat and Maximin Giraud reported a Marian apparition, now known as Our Lady of La Salette , near La Salette-Fallavaux\n",
            "1893 – New Zealand became the first country to introduce universal suffrage following the women's suffrage movement led by Kate Sheppard\n",
            "1991 – Ötzi, a well-preserved natural mummy of a man dating from about 3300 BC, was discovered by two German tourists in the Alps\n",
            "2011 – Mariano Rivera surpassed Trevor Hoffman to become Major League Baseball's all-time leader in the number of saves\n",
            "\n",
            "Content extraction finished.\n"
          ]
        }
      ]
    }
  ]
}